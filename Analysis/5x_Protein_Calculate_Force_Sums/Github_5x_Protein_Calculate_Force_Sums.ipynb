{
 "cells": [
  {
   "cell_type": "markdown",
   "id": "6a72e9e9",
   "metadata": {},
   "source": [
    "### Run the following chunk of code to import any libraries or packages necessary to run the rest of the code."
   ]
  },
  {
   "cell_type": "code",
   "execution_count": null,
   "id": "7f84b98f",
   "metadata": {},
   "outputs": [],
   "source": [
    "import numpy as np\n",
    "import os as os\n",
    "import re as re\n",
    "import pandas as pd"
   ]
  },
  {
   "cell_type": "markdown",
   "id": "fe58656e",
   "metadata": {},
   "source": [
    "### Run the following chunk of code to calculate the sum of the time averaged (TA) forces (Electrostatic & Hydrophobic).\n",
    "\n",
    "The following code will calculate the sum of the electrostatic and hydrophobic forces. Note, the user will need to adjust the directory variables to match their directory structure, or adjust their directory structure to match that of the code."
   ]
  },
  {
   "cell_type": "code",
   "execution_count": null,
   "id": "d471a11d",
   "metadata": {},
   "outputs": [],
   "source": [
    "base_Directory = \"\"\n",
    "\n",
    "phos = 4\n",
    "chain_Length = 150\n",
    "\n",
    "input_Working_Directory_One = base_Directory + \"Inputs/Electrostatic/\" + str(phos) + \"x_Phos/\"\n",
    "input_Working_Directory_Two = base_Directory + \"Inputs/Hydrophobic/\" + str(phos) + \"x_Phos/\"\n",
    "output_Working_Directory_One = base_Directory + \"Outputs/Electrostatic/Mean/\" + str(phos) + \"x_Phos/\"\n",
    "output_Working_Directory_Two = base_Directory + \"Outputs/Hydrophobic/Mean/\" + str(phos) + \"x_Phos/\"\n",
    "output_Working_Directory_Three = base_Directory + \"Outputs/Electrostatic/SD/\" + str(phos) + \"x_Phos/\"\n",
    "output_Working_Directory_Four = base_Directory + \"Outputs/Hydrophobic/SD/\" + str(phos) + \"x_Phos/\"\n",
    "\n",
    "force_Conversion = 1.661*10**(-12) #N Per kJ/(nm*mol)\n",
    "\n",
    "concentrations = [10,11,12,13,14,15,16,17,18,19,20]\n",
    "protein_Counts = [125,140,150,160,180,200,210,220,240,250,270]\n",
    "\n",
    "for file in os.listdir(input_Working_Directory_One):\n",
    "    print(file)\n",
    "    electrostatic_AA_Forces = np.load(input_Working_Directory_One + file)\n",
    "    hydrophobic_AA_Forces = np.load(input_Working_Directory_Two + file.replace(\"Electrostatic_Forces\", \"Hydrophobic_Forces\"))\n",
    "\n",
    "    concentration = int(re.split(\"5x_Protein_|_uM\",file)[1])\n",
    "    protein_Count = [protein_Counts[i] for i in range(len(concentrations)) if concentrations[i] == concentration][0]\n",
    "    AA_Count = protein_Count*chain_Length\n",
    "    \n",
    "    hydrophobic_Sum_Total = 0\n",
    "    electrostatic_Sum_Total = 0\n",
    "    hydrophobic_Sum_Error = 0\n",
    "    electrostatic_Sum_Error = 0\n",
    "    \n",
    "    rows = np.shape(electrostatic_AA_Forces)[0]\n",
    "    columns = np.shape(electrostatic_AA_Forces)[1]\n",
    "    for i in range(rows):\n",
    "        if i%100 == 0:\n",
    "            print(i)\n",
    "        index_One_Protein = int(np.floor(i/chain_Length))\n",
    "        for j in range(columns):\n",
    "            index_Two_Protein = int(np.floor(j/chain_Length))\n",
    "            if index_One_Protein != index_Two_Protein:\n",
    "                if hydrophobic_AA_Forces[i,j] < 0:\n",
    "                    hydrophobic_Sum_Total += hydrophobic_AA_Forces[i,j]*force_Conversion\n",
    "                electrostatic_Sum_Total += electrostatic_AA_Forces[i,j]*force_Conversion\n",
    "\n",
    "    \n",
    "    np.save(output_Working_Directory_One + file.replace(\"Electrostatic_Forces\",\"Force_Sums_Electrostatic\"), electrostatic_Sum_Total)\n",
    "    np.save(output_Working_Directory_Two + file.replace(\"Electrostatic_Forces\",\"Force_Sums_Hydrophobic\"), hydrophobic_Sum_Total)"
   ]
  }
 ],
 "metadata": {
  "kernelspec": {
   "display_name": "Python 3 (ipykernel)",
   "language": "python",
   "name": "python3"
  },
  "language_info": {
   "codemirror_mode": {
    "name": "ipython",
    "version": 3
   },
   "file_extension": ".py",
   "mimetype": "text/x-python",
   "name": "python",
   "nbconvert_exporter": "python",
   "pygments_lexer": "ipython3",
   "version": "3.9.17"
  }
 },
 "nbformat": 4,
 "nbformat_minor": 5
}
