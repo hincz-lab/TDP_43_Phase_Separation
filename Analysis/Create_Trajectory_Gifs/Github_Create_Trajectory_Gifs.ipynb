{
 "cells": [
  {
   "cell_type": "markdown",
   "id": "e750e3e3",
   "metadata": {},
   "source": [
    "### Run the following chunk of code to import any libraries or packages required to run the rest of the code."
   ]
  },
  {
   "cell_type": "code",
   "execution_count": null,
   "id": "770243f6",
   "metadata": {},
   "outputs": [],
   "source": [
    "import numpy as np\n",
    "import os as os\n",
    "import matplotlib.pyplot as plt\n",
    "import io\n",
    "import PIL\n",
    "import gc"
   ]
  },
  {
   "cell_type": "markdown",
   "id": "14fca3e9",
   "metadata": {},
   "source": [
    "### Run the following chunk of code to create trajectory gifs.\n",
    "This code will take as an input .npy files which contain the positions of each amino acid in a simulation for each time step and convert them into a simulation gif. The gif will project the position of each amino acid onto one of the faces of the simulation slab, and color each of the proteins a different color. Note, the user will need to update the directory variables to account for their own directory setup."
   ]
  },
  {
   "cell_type": "code",
   "execution_count": null,
   "id": "8bed869f",
   "metadata": {},
   "outputs": [],
   "source": [
    "base_Directory = \"\"\n",
    "\n",
    "phos = 4\n",
    "input_Working_Directory = base_Directory + \"Inputs/\" + str(phos) + \"x_Phos/\"\n",
    "output_Working_Directory = base_Directory + \"Outputs/\" + str(phos) + \"x_Phos/\"\n",
    "\n",
    "chain_Length = 150\n",
    "box_Top = 30\n",
    "box_Bottom = -30\n",
    "box_Right = 600\n",
    "box_Left = -600\n",
    "\n",
    "for file in os.listdir(input_Working_Directory):\n",
    "    if file.replace(\"Positions.npy\",\"GIF.gif\") in os.listdir(output_Working_Directory):\n",
    "        continue\n",
    "    else:\n",
    "        print(file)\n",
    "        positions = np.load(input_Working_Directory + file)\n",
    "        protein_Chains = int(np.shape(positions)[1]/chain_Length)\n",
    "        red = [[1,0,0]]\n",
    "        orange = [[1,0.647,0]]\n",
    "        yellow = [[0,0,0]]\n",
    "        green = [[0,1,0]]\n",
    "        blue = [[0,0,1]]\n",
    "        purple = [[0.627,0.125,0.941]]\n",
    "        color_Count = 0\n",
    "        colors = []\n",
    "        for i in range(protein_Chains):\n",
    "          if color_Count == 0:\n",
    "            colors += red*chain_Length\n",
    "          elif color_Count == 1:\n",
    "            colors += orange*chain_Length\n",
    "          elif color_Count == 2:\n",
    "            colors += yellow*chain_Length\n",
    "          elif color_Count == 3:\n",
    "            colors += green*chain_Length\n",
    "          elif color_Count == 4:\n",
    "            colors += blue*chain_Length\n",
    "          elif color_Count == 5:\n",
    "            colors += purple*chain_Length\n",
    "          color_Count += 1\n",
    "          if color_Count == 6:\n",
    "            color_Count = 0\n",
    "        frames = []\n",
    "        for i in range(len(positions)):\n",
    "          if i%100 == 0:\n",
    "            print(i)\n",
    "          fig = plt.figure(figsize=(20, 1), dpi=100)\n",
    "          ax = plt.axes()\n",
    "          plt.scatter(positions[i][:,2],positions[i][:,1],color = colors,s = 0.6, linewidth = 0.1,edgecolor = \"black\")\n",
    "          plt.axvline(x = box_Left, color = 'black', lw = 2)\n",
    "          plt.axvline(x = box_Right, color = 'black', lw = 2)\n",
    "          plt.axhline(y = box_Bottom, color = \"black\", lw = 2)\n",
    "          plt.axhline(y = box_Top, color = \"black\", lw = 2)\n",
    "          plt.xlim(box_Left,box_Right)\n",
    "          plt.ylim(box_Bottom,box_Top)\n",
    "          plt.text(box_Left + 10,box_Top - 10,\"Time = \" + str(np.round((1/1000)*i,4)) + r\"$ \\mu s$\")\n",
    "          plt.axis(\"off\")\n",
    "          buf = io.BytesIO()\n",
    "          fig.savefig(buf)\n",
    "          buf.seek(0)\n",
    "          frames.append(PIL.Image.open(buf))\n",
    "          plt.clf()\n",
    "          plt.close(\"all\")\n",
    "          gc.collect()\n",
    "        frames[0].save(output_Working_Directory + file.replace(\"Positions.npy\",\"GIF.gif\"), save_all=True, append_images=frames[1:], optimize=False, duration=100, loop=0)\n",
    "        del frames\n",
    "        del positions\n",
    "        gc.collect()"
   ]
  }
 ],
 "metadata": {
  "kernelspec": {
   "display_name": "Python 3 (ipykernel)",
   "language": "python",
   "name": "python3"
  },
  "language_info": {
   "codemirror_mode": {
    "name": "ipython",
    "version": 3
   },
   "file_extension": ".py",
   "mimetype": "text/x-python",
   "name": "python",
   "nbconvert_exporter": "python",
   "pygments_lexer": "ipython3",
   "version": "3.9.17"
  }
 },
 "nbformat": 4,
 "nbformat_minor": 5
}
