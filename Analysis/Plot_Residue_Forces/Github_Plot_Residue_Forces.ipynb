{
 "cells": [
  {
   "cell_type": "markdown",
   "id": "1ed76916",
   "metadata": {},
   "source": [
    "### Run the following chunk of code to import any libraries or packages necessary for running the rest of the code."
   ]
  },
  {
   "cell_type": "code",
   "execution_count": null,
   "id": "176310d5",
   "metadata": {},
   "outputs": [],
   "source": [
    "import numpy as np\n",
    "import matplotlib.pyplot as plt\n",
    "import os as os\n",
    "import matplotlib.colors as colors"
   ]
  },
  {
   "cell_type": "markdown",
   "id": "86dff0c9",
   "metadata": {},
   "source": [
    "### Run the following code to plot the residue-residue forces for both the electrostatic force and the hydrophobic force. \n",
    "The following code will plot the residue-residue forces for both the electrostatic and hydrophobic forces. Note, the user will have to either change their directory structure to match that of the code, or change the code directory variables to match their directoy structure."
   ]
  },
  {
   "cell_type": "code",
   "execution_count": null,
   "id": "54d39f27",
   "metadata": {},
   "outputs": [],
   "source": [
    "base_Directory = \"\"\n",
    "\n",
    "phos = 4\n",
    "\n",
    "input_Working_Directory_One = base_Directory + \"Inputs/Electrostatic/\" + str(phos) + \"x_Phos/\"\n",
    "input_Working_Directory_Two = base_Directory + \"Inputs/Hydrophobic/\" + str(phos) + \"x_Phos/\"\n",
    "output_Working_Directory = base_Directory + \"Outputs/\" + str(phos) + \"x_Phos/\"\n",
    "\n",
    "phosphorylations = [0,2,4]\n",
    "\n",
    "protein_Concentration = 20\n",
    "\n",
    "salt_Concentrations = [0,200,1000]\n",
    "\n",
    "force_Conversion_One = 1.661*10**(-12) #N Per kJ/(nm*mol)\n",
    "force_Conversion_Two = 1*10**12 #pN Per N\n",
    "\n",
    "def truncate_colormap(cmap, minval=0.0, maxval=1.0, n=100):\n",
    "    new_cmap = colors.LinearSegmentedColormap.from_list(\n",
    "        'trunc({n},{a:.2f},{b:.2f})'.format(n=cmap.name, a=minval, b=maxval),\n",
    "        cmap(np.linspace(minval, maxval, n)))\n",
    "    return new_cmap\n",
    "\n",
    "cmap = plt.get_cmap('seismic')\n",
    "new_cmap = truncate_colormap(cmap, 0, 0.5)\n",
    "\n",
    "\n",
    "electrostatic_Forces = []\n",
    "\n",
    "hydrophobic_Forces = []\n",
    "\n",
    "for file in os.listdir(input_Working_Directory_One):\n",
    "    print(file)\n",
    "    electrostatic_Sums = np.load(input_Working_Directory_One + file)\n",
    "    hydrophobic_Sums = np.load(input_Working_Directory_Two + file.replace(\"_E_\",\"_H_\"))\n",
    "\n",
    "    electrostatic_Sums = np.copy(electrostatic_Sums)*force_Conversion_One*force_Conversion_Two\n",
    "    hydrophobic_Sums = np.copy(hydrophobic_Sums)*force_Conversion_One*force_Conversion_Two\n",
    "    \n",
    "    salt_Concentration = int(re.split(\"Protein_|_mM\", file)[1])\n",
    "                \n",
    "    fig, ax = plt.subplots()\n",
    "    maximum = 50\n",
    "    minimum = -50\n",
    "    number_Of_Colors = 11\n",
    "    plt.imshow(electrostatic_Sums, cmap = colors.ListedColormap(cmap(np.linspace(0,1,number_Of_Colors))), vmin = minimum, vmax = maximum)\n",
    "    plt.colorbar(ticks = np.linspace(minimum,maximum,5))\n",
    "    ax.tick_params(top=True, labeltop=True, bottom=False, labelbottom=False)\n",
    "    plt.xticks([0,30,54,77,134,149])\n",
    "    ax.set_xticklabels([\"265\",\"295\",\"319\",\"342\",\"399\",\"414\"])\n",
    "    plt.yticks([0,30,54,77,134,149])\n",
    "    ax.set_yticklabels([\"265\",\"295\",\"319\",\"342\",\"399\",\"414\"])\n",
    "    plt.vlines([30,54,77,134],0,151, color = \"black\", ls = \"--\", linewidth = 0.75)\n",
    "    plt.hlines([30,54,77,134],0,151, color = \"black\", ls = \"--\", linewidth = 0.75)\n",
    "    plt.xlim(0,150)\n",
    "    plt.ylim(150,0)\n",
    "    plt.savefig(output_Working_Directory + str(salt_Concentration) + \"_mM_Salt_Electrostatic_Forces.png\")\n",
    "    plt.savefig(output_Working_Directory + str(salt_Concentration) + \"_mM_Salt_Electrostatic_Forces.svg\")\n",
    "    print(np.min(hydrophobic_Sums))\n",
    "    \n",
    "    fig, ax = plt.subplots()\n",
    "    maximum = 0\n",
    "    minimum = -20\n",
    "    number_Of_Colors = 11\n",
    "    plt.imshow(hydrophobic_Sums, cmap = colors.ListedColormap(new_cmap(np.linspace(0,1,number_Of_Colors))), vmin = minimum, vmax = maximum)\n",
    "    plt.colorbar(ticks = [0,-10,-20])\n",
    "    ax.tick_params(top=True, labeltop=True, bottom=False, labelbottom=False)\n",
    "    plt.xticks([0,30,54,77,134,149])\n",
    "    ax.set_xticklabels([\"265\",\"295\",\"319\",\"342\",\"399\",\"414\"])\n",
    "    plt.yticks([0,30,54,77,134,149])\n",
    "    ax.set_yticklabels([\"265\",\"295\",\"319\",\"342\",\"399\",\"414\"])\n",
    "    plt.vlines([30,54,77,134],0,151, color = \"black\", ls = \"--\", linewidth = 0.75)\n",
    "    plt.hlines([30,54,77,134],0,151, color = \"black\", ls = \"--\", linewidth = 0.75)\n",
    "    plt.xlim(0,150)\n",
    "    plt.ylim(150,0)\n",
    "    plt.savefig(output_Working_Directory + str(salt_Concentration) + \"_mM_Salt_Hydrophobic_Forces.png\")\n",
    "    plt.savefig(output_Working_Directory + str(salt_Concentration) + \"_mM_Salt_Hydrophobic_Forces.svg\")"
   ]
  }
 ],
 "metadata": {
  "kernelspec": {
   "display_name": "Python 3 (ipykernel)",
   "language": "python",
   "name": "python3"
  },
  "language_info": {
   "codemirror_mode": {
    "name": "ipython",
    "version": 3
   },
   "file_extension": ".py",
   "mimetype": "text/x-python",
   "name": "python",
   "nbconvert_exporter": "python",
   "pygments_lexer": "ipython3",
   "version": "3.9.17"
  }
 },
 "nbformat": 4,
 "nbformat_minor": 5
}
