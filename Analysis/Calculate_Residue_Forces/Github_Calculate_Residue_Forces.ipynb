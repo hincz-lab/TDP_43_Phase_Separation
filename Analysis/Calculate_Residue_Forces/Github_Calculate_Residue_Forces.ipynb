{
 "cells": [
  {
   "cell_type": "code",
   "execution_count": null,
   "id": "209fcbbe",
   "metadata": {},
   "outputs": [],
   "source": [
    "import numpy as np\n",
    "import os as os"
   ]
  },
  {
   "cell_type": "code",
   "execution_count": null,
   "id": "b0f7b0ff",
   "metadata": {},
   "outputs": [],
   "source": [
    "base_Directory = \"\"\n",
    "\n",
    "force_Conversion = 1.661*10**(-12) #N Per kJ/(nm*mol)\n",
    "chain_Length = 150\n",
    "\n",
    "phos = 4\n",
    "input_Working_Directory_One = base_Directory + \"Inputs/Electrostatic/\" + str(phos) + \"x_Phos/\"\n",
    "input_Working_Directory_Two = base_Directory + \"Inputs/Hydrophobic/\" + str(phos) + \"x_Phos/\"\n",
    "output_Working_Directory_One = base_Directory + \"Outputs/Electrostatic/\" + str(phos) + \"x_Phos/\"\n",
    "output_Working_Directory_Two = base_Directory + \"Outputs/Hydrophobic/\" + str(phos) + \"x_Phos/\"\n",
    "\n",
    "for file in os.listdir(input_Working_Directory_One):\n",
    "    electrostatic_Residue_Forces = np.zeros((chain_Length,chain_Length))\n",
    "    hydrophobic_Residue_Forces = np.zeros((chain_Length,chain_Length))\n",
    "    print(file)\n",
    "    \n",
    "    electrostatic_Forces = np.load(input_Working_Directory_One + file)\n",
    "    hydrophobic_Forces = np.load(input_Working_Directory_Two + file.replace(\"Electrostatic\",\"Hydrophobic\"))\n",
    "    number_Of_Amino_Acids = np.shape(electrostatic_Forces)[0]\n",
    "    \n",
    "    for AA_One in np.arange(number_Of_Amino_Acids):\n",
    "        if AA_One % 100 == 0:\n",
    "            print(AA_One)\n",
    "        AA_One_Protein = int(np.floor(AA_One/chain_Length))\n",
    "        residue_One = AA_One%chain_Length\n",
    "        for AA_Two in np.arange(number_Of_Amino_Acids):\n",
    "            AA_Two_Protein = int(np.floor(AA_Two/chain_Length))\n",
    "            residue_Two = AA_Two%chain_Length\n",
    "            if AA_One_Protein != AA_Two_Protein:\n",
    "                electrostatic_Residue_Forces[residue_One,residue_Two] += electrostatic_Forces[AA_One,AA_Two]\n",
    "                if hydrophobic_Forces[AA_One,AA_Two] < 0:\n",
    "                    hydrophobic_Residue_Forces[residue_One,residue_Two] += hydrophobic_Forces[AA_One,AA_Two]\n",
    "    np.save(output_Working_Directory_One + file.replace(\"Electrostatic\",\"E_Residue\"),electrostatic_Residue_Forces)\n",
    "    np.save(output_Working_Directory_Two + file.replace(\"Electrostatic\",\"H_Residue\"),hydrophobic_Residue_Forces)"
   ]
  }
 ],
 "metadata": {
  "kernelspec": {
   "display_name": "Python 3 (ipykernel)",
   "language": "python",
   "name": "python3"
  },
  "language_info": {
   "codemirror_mode": {
    "name": "ipython",
    "version": 3
   },
   "file_extension": ".py",
   "mimetype": "text/x-python",
   "name": "python",
   "nbconvert_exporter": "python",
   "pygments_lexer": "ipython3",
   "version": "3.9.17"
  }
 },
 "nbformat": 4,
 "nbformat_minor": 5
}
