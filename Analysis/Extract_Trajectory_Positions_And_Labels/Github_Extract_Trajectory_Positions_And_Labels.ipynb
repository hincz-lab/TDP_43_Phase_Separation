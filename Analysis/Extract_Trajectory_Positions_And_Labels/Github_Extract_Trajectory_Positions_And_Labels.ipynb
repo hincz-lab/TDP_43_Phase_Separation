{
 "cells": [
  {
   "cell_type": "markdown",
   "id": "fe7f471d",
   "metadata": {},
   "source": [
    "### Run the following chunk of code to import any packages or libraries necessary to run the rest of the code."
   ]
  },
  {
   "cell_type": "code",
   "execution_count": null,
   "id": "f408febb",
   "metadata": {},
   "outputs": [],
   "source": [
    "import gsd, gsd.hoomd\n",
    "import numpy as np\n",
    "import os as os"
   ]
  },
  {
   "cell_type": "markdown",
   "id": "14a1191c",
   "metadata": {},
   "source": [
    "### Run the following chunk of code to extract positions and labels of a simulation trajectory.\n",
    "The following chunk of code will accept as an input a .gsd file from a Hoomd-Blue simulation. The code will then extract the particle labels and positions of each amino acid in the simulation box for all time steps and save them as two separate .npy files. Note, the user may need to change the \"base_Directory\", and \"phos\" variables to match their working directory structure."
   ]
  },
  {
   "cell_type": "code",
   "execution_count": null,
   "id": "5b9002b4",
   "metadata": {},
   "outputs": [],
   "source": [
    "base_Directory = \"\"\n",
    "\n",
    "phos = 4\n",
    "input_Working_Directory = base_Directory + \"Inputs/\" + str(phos) + \"x_Phos/\"\n",
    "output_Working_Directory = base_Directory + \"Outputs/Positions/\" + str(phos) + \"x_Phos/\"\n",
    "output_Working_Directory_Two = base_Directory + \"Outputs/Labels/\" + str(phos) + \"x_Phos/\"\n",
    "\n",
    "\n",
    "for file in os.listdir(input_Working_Directory):\n",
    "    trajectory_Name = input_Working_Directory + file\n",
    "    trajectory_Positions = []\n",
    "    trajectory_Labels = []\n",
    "    trajectory = gsd.hoomd.open(trajectory_Name)\n",
    "    print(file + \" Positions And Labels \")\n",
    "    for i in range(len(trajectory)):\n",
    "        snapshot = trajectory[i]\n",
    "        labels = snapshot.particles.typeid\n",
    "        positions = snapshot.particles.position\n",
    "        \n",
    "        trajectory_Positions.append(positions)\n",
    "        trajectory_Labels.append(labels)   \n",
    "    np.save(output_Working_Directory_Two + file.replace(\".gsd\",\"_Particle_Labels.npy\"),trajectory_Labels)\n",
    "    np.save(output_Working_Directory + file.replace(\".gsd\",\"_Positions.npy\"),trajectory_Positions)"
   ]
  }
 ],
 "metadata": {
  "kernelspec": {
   "display_name": "Python 3 (ipykernel)",
   "language": "python",
   "name": "python3"
  },
  "language_info": {
   "codemirror_mode": {
    "name": "ipython",
    "version": 3
   },
   "file_extension": ".py",
   "mimetype": "text/x-python",
   "name": "python",
   "nbconvert_exporter": "python",
   "pygments_lexer": "ipython3",
   "version": "3.9.17"
  }
 },
 "nbformat": 4,
 "nbformat_minor": 5
}
