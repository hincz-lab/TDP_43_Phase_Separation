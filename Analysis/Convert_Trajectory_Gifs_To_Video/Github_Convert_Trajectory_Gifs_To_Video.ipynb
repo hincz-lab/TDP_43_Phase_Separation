{
 "cells": [
  {
   "cell_type": "markdown",
   "id": "511f3624",
   "metadata": {},
   "source": [
    "### Run the following chunk of code to import any libraries or packages that will be needed to run the rest of the code."
   ]
  },
  {
   "cell_type": "code",
   "execution_count": null,
   "id": "b2d48a5d",
   "metadata": {},
   "outputs": [],
   "source": [
    "import ffmpy\n",
    "import os as os"
   ]
  },
  {
   "cell_type": "markdown",
   "id": "a7e9e8b3",
   "metadata": {},
   "source": [
    "### Run the following chunk of code to convert trajectory gifs to trajectory videos.\n",
    "This code will take as inputs .gif files of trajectory videos, where the positions of each amino acid are projected onto one of the slab faces. The code will then convert the .gif files into .avi video files, which can be scrolled through to check specific times of the video. The user will need to adjust the directory structure to match their layout, or copy the structure in the code."
   ]
  },
  {
   "cell_type": "code",
   "execution_count": null,
   "id": "8d408bbd",
   "metadata": {},
   "outputs": [],
   "source": [
    "base_Directory = \"\"\n",
    "phos = 4\n",
    "input_Working_Directory = base_Directory + \"/Inputs/\" + str(phos) + \"x_Phos/\"\n",
    "output_Working_Directory = base_Directory + \"Outputs/\" + str(phos) + \"x_Phos/\"\n",
    "\n",
    "\n",
    "for file in os.listdir(input_Working_Directory):\n",
    "    if file.replace(\"GIF.gif\",\"Video.avi\") in os.listdir(output_Working_Directory):\n",
    "        continue\n",
    "    else:\n",
    "        print(file)\n",
    "        ff = ffmpy.FFmpeg(inputs = {input_Working_Directory + file:None}, outputs = {output_Working_Directory + file.replace(\"GIF.gif\",\"Video.avi\"): '-c:a avi'})\n",
    "        ff.run()"
   ]
  }
 ],
 "metadata": {
  "kernelspec": {
   "display_name": "Python 3 (ipykernel)",
   "language": "python",
   "name": "python3"
  },
  "language_info": {
   "codemirror_mode": {
    "name": "ipython",
    "version": 3
   },
   "file_extension": ".py",
   "mimetype": "text/x-python",
   "name": "python",
   "nbconvert_exporter": "python",
   "pygments_lexer": "ipython3",
   "version": "3.9.17"
  }
 },
 "nbformat": 4,
 "nbformat_minor": 5
}
