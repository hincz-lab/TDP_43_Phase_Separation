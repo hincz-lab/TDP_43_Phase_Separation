{
 "cells": [
  {
   "cell_type": "markdown",
   "id": "aee8a42a",
   "metadata": {},
   "source": [
    "### Run the following chunk of code to import any libraries or packages required to run the rest of the code."
   ]
  },
  {
   "cell_type": "code",
   "execution_count": 1,
   "id": "21614331",
   "metadata": {},
   "outputs": [],
   "source": [
    "import pandas as pd\n",
    "import os as os"
   ]
  },
  {
   "cell_type": "markdown",
   "id": "b227d8a0",
   "metadata": {},
   "source": [
    "### Run the following chunk of code to convert the an amino acid chain .txt file to a .csv format.\n",
    "\n",
    "The following chunk of code will take in a .txt file which has a chain of amino acids. The output .csv file will report the amino acids in a single column, where each row represents an amino acid in the chain. Note that the user will need to adjust the \"base_Directory\" variable to represent their working directory. Further, note that the replace_Flags variable contains string elements which users might have in their amino acid chain. Prior to conversion, the replace flags should reduce the input .txt string to a form that is connected without any extra characters other than the amino acid chain letters."
   ]
  },
  {
   "cell_type": "code",
   "execution_count": 47,
   "id": "efa1214a",
   "metadata": {},
   "outputs": [],
   "source": [
    "base_Directory = \"\"\n",
    "input_Working_Directory = base_Directory + \"Inputs/\"\n",
    "output_Working_Directory = base_Directory + \"Outputs/\"\n",
    "\n",
    "replace_Flags = [\"\\n\",\"\\t\",\" \",\"-\",\"_\"]\n",
    "\n",
    "for input_Name in os.listdir(input_Working_Directory):\n",
    "    with open(input_Working_Directory + input_Name) as f:\n",
    "        chain_String = f.read()\n",
    "        for replacer in replace_Flags:\n",
    "            chain_String = chain_String.replace(replacer,\"\")\n",
    "\n",
    "    output_Data_Frame = pd.DataFrame([*chain_String.upper()],columns =['Amino Acid Short'])\n",
    "    output_Data_Frame.to_csv(output_Working_Directory + input_Name.replace(\".txt\",\".csv\"), index = False)"
   ]
  }
 ],
 "metadata": {
  "kernelspec": {
   "display_name": "Python 3 (ipykernel)",
   "language": "python",
   "name": "python3"
  },
  "language_info": {
   "codemirror_mode": {
    "name": "ipython",
    "version": 3
   },
   "file_extension": ".py",
   "mimetype": "text/x-python",
   "name": "python",
   "nbconvert_exporter": "python",
   "pygments_lexer": "ipython3",
   "version": "3.9.17"
  }
 },
 "nbformat": 4,
 "nbformat_minor": 5
}
